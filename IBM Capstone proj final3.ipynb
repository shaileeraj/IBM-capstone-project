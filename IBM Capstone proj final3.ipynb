{
 "cells": [
  {
   "cell_type": "code",
   "execution_count": 1,
   "metadata": {},
   "outputs": [
    {
     "ename": "SyntaxError",
     "evalue": "invalid syntax (<ipython-input-1-0bf11d91a1d1>, line 1)",
     "output_type": "error",
     "traceback": [
      "\u001b[1;36m  File \u001b[1;32m\"<ipython-input-1-0bf11d91a1d1>\"\u001b[1;36m, line \u001b[1;32m1\u001b[0m\n\u001b[1;33m    $ apt-get install python3-bs4\u001b[0m\n\u001b[1;37m    ^\u001b[0m\n\u001b[1;31mSyntaxError\u001b[0m\u001b[1;31m:\u001b[0m invalid syntax\n"
     ]
    }
   ],
   "source": [
    "$ apt-get install python3-bs4"
   ]
  },
  {
   "cell_type": "code",
   "execution_count": 2,
   "metadata": {},
   "outputs": [
    {
     "name": "stdout",
     "output_type": "stream",
     "text": [
      "Requirement already satisfied: beautifulsoup4 in c:\\anaconda\\lib\\site-packages (4.9.1)\n",
      "Requirement already satisfied: soupsieve>1.2 in c:\\anaconda\\lib\\site-packages (from beautifulsoup4) (2.0.1)\n",
      "Note: you may need to restart the kernel to use updated packages.\n"
     ]
    }
   ],
   "source": [
    "pip install beautifulsoup4\n"
   ]
  },
  {
   "cell_type": "code",
   "execution_count": 3,
   "metadata": {},
   "outputs": [
    {
     "name": "stdout",
     "output_type": "stream",
     "text": [
      "Requirement already satisfied: lxml in c:\\anaconda\\lib\\site-packages (4.5.2)Note: you may need to restart the kernel to use updated packages.\n",
      "\n"
     ]
    }
   ],
   "source": [
    "pip install lxml"
   ]
  },
  {
   "cell_type": "code",
   "execution_count": 4,
   "metadata": {},
   "outputs": [
    {
     "name": "stdout",
     "output_type": "stream",
     "text": [
      "Requirement already satisfied: html5lib in c:\\anaconda\\lib\\site-packages (1.1)\n",
      "Requirement already satisfied: webencodings in c:\\anaconda\\lib\\site-packages (from html5lib) (0.5.1)\n",
      "Requirement already satisfied: six>=1.9 in c:\\anaconda\\lib\\site-packages (from html5lib) (1.15.0)\n",
      "Note: you may need to restart the kernel to use updated packages.\n"
     ]
    }
   ],
   "source": [
    "pip install html5lib"
   ]
  },
  {
   "cell_type": "code",
   "execution_count": 6,
   "metadata": {},
   "outputs": [],
   "source": [
    "import pandas as pd\n",
    "import numpy as np\n",
    "import matplotlib.pyplot as plt\n",
    "import seaborn as sns\n",
    "%matplotlib inline\n",
    "from urllib.request import urlopen\n",
    "from bs4 import BeautifulSoup"
   ]
  },
  {
   "cell_type": "code",
   "execution_count": 7,
   "metadata": {},
   "outputs": [],
   "source": [
    "url = \"https://en.wikipedia.org/wiki/List_of_postal_codes_of_Canada:_M\"\n",
    "html = urlopen(url)"
   ]
  },
  {
   "cell_type": "code",
   "execution_count": 8,
   "metadata": {},
   "outputs": [
    {
     "data": {
      "text/plain": [
       "bs4.BeautifulSoup"
      ]
     },
     "execution_count": 8,
     "metadata": {},
     "output_type": "execute_result"
    }
   ],
   "source": [
    "soup = BeautifulSoup(html, 'lxml')\n",
    "type(soup)"
   ]
  },
  {
   "cell_type": "code",
   "execution_count": 9,
   "metadata": {},
   "outputs": [
    {
     "name": "stdout",
     "output_type": "stream",
     "text": [
      "<title>List of postal codes of Canada: M - Wikipedia</title>\n"
     ]
    }
   ],
   "source": [
    "# Get the title\n",
    "title = soup.title\n",
    "print(title)"
   ]
  },
  {
   "cell_type": "code",
   "execution_count": 10,
   "metadata": {},
   "outputs": [],
   "source": [
    "# Print out the text\n",
    "text = soup.get_text()\n"
   ]
  },
  {
   "cell_type": "code",
   "execution_count": 14,
   "metadata": {},
   "outputs": [],
   "source": [
    "rows = soup.find_all('tr')"
   ]
  },
  {
   "cell_type": "code",
   "execution_count": 17,
   "metadata": {},
   "outputs": [],
   "source": [
    "for row in rows:\n",
    "    row_td = row.find_all('td')\n",
    "\n"
   ]
  },
  {
   "cell_type": "code",
   "execution_count": 18,
   "metadata": {},
   "outputs": [
    {
     "data": {
      "text/plain": [
       "bs4.element.ResultSet"
      ]
     },
     "execution_count": 18,
     "metadata": {},
     "output_type": "execute_result"
    }
   ],
   "source": [
    "type(row_td)"
   ]
  },
  {
   "cell_type": "code",
   "execution_count": 19,
   "metadata": {},
   "outputs": [
    {
     "data": {
      "text/plain": [
       "bs4.element.ResultSet"
      ]
     },
     "execution_count": 19,
     "metadata": {},
     "output_type": "execute_result"
    }
   ],
   "source": [
    "type(rows)"
   ]
  },
  {
   "cell_type": "code",
   "execution_count": 23,
   "metadata": {},
   "outputs": [
    {
     "name": "stdout",
     "output_type": "stream",
     "text": [
      "<td align=\"center\" style=\"border: 1px solid #FF4000; background-color: #FFE8E0; font-size: 135%;\" width=\"5%\"><a href=\"/wiki/List_of_postal_codes_of_Canada:_B\" title=\"List of postal codes of Canada: B\">B</a>\n",
      "</td>\n"
     ]
    }
   ],
   "source": [
    "print(row_td[1])"
   ]
  },
  {
   "cell_type": "code",
   "execution_count": 28,
   "metadata": {},
   "outputs": [],
   "source": [
    "mytable=soup.find_all('table',{'class':'wikitable sortable'})"
   ]
  },
  {
   "cell_type": "code",
   "execution_count": 30,
   "metadata": {},
   "outputs": [
    {
     "data": {
      "text/plain": [
       "bs4.element.ResultSet"
      ]
     },
     "execution_count": 30,
     "metadata": {},
     "output_type": "execute_result"
    }
   ],
   "source": [
    "type(mytable)"
   ]
  },
  {
   "cell_type": "code",
   "execution_count": 140,
   "metadata": {},
   "outputs": [
    {
     "data": {
      "text/plain": [
       "bs4.element.ResultSet"
      ]
     },
     "execution_count": 140,
     "metadata": {},
     "output_type": "execute_result"
    }
   ],
   "source": [
    "for row in mytable:\n",
    "    row_td = row.find_all('td')\n",
    "\n",
    "type(row_td)"
   ]
  },
  {
   "cell_type": "code",
   "execution_count": 35,
   "metadata": {},
   "outputs": [],
   "source": [
    "for row in mytable:\n",
    "    row_tr = row.find_all('tr')"
   ]
  },
  {
   "cell_type": "code",
   "execution_count": 39,
   "metadata": {},
   "outputs": [],
   "source": [
    "for cols in row_tr:\n",
    "    row_tg = cols.find_all('th')"
   ]
  },
  {
   "cell_type": "code",
   "execution_count": 44,
   "metadata": {},
   "outputs": [
    {
     "data": {
      "text/plain": [
       "<tr>\n",
       "<th>Postal Code\n",
       "</th>\n",
       "<th>Borough\n",
       "</th>\n",
       "<th>Neighbourhood\n",
       "</th></tr>"
      ]
     },
     "execution_count": 44,
     "metadata": {},
     "output_type": "execute_result"
    }
   ],
   "source": [
    "header=row_tr[0]\n"
   ]
  },
  {
   "cell_type": "code",
   "execution_count": 46,
   "metadata": {},
   "outputs": [],
   "source": [
    "column_names =  []\n",
    "th_tags=row_tr[0].find_all('th')\n",
    "if len(th_tags) > 0 :\n",
    "    for th in th_tags:\n",
    "        column_names.append(th.get_text())"
   ]
  },
  {
   "cell_type": "code",
   "execution_count": 47,
   "metadata": {},
   "outputs": [
    {
     "data": {
      "text/plain": [
       "['Postal Code\\n', 'Borough\\n', 'Neighbourhood\\n']"
      ]
     },
     "execution_count": 47,
     "metadata": {},
     "output_type": "execute_result"
    }
   ],
   "source": [
    "column_names"
   ]
  },
  {
   "cell_type": "code",
   "execution_count": 81,
   "metadata": {},
   "outputs": [
    {
     "data": {
      "text/plain": [
       "list"
      ]
     },
     "execution_count": 81,
     "metadata": {},
     "output_type": "execute_result"
    }
   ],
   "source": [
    "type(column_names)"
   ]
  },
  {
   "cell_type": "code",
   "execution_count": 48,
   "metadata": {},
   "outputs": [],
   "source": [
    "nrow=len(row_tr)"
   ]
  },
  {
   "cell_type": "code",
   "execution_count": 49,
   "metadata": {},
   "outputs": [
    {
     "data": {
      "text/plain": [
       "181"
      ]
     },
     "execution_count": 49,
     "metadata": {},
     "output_type": "execute_result"
    }
   ],
   "source": [
    "nrow"
   ]
  },
  {
   "cell_type": "code",
   "execution_count": 50,
   "metadata": {},
   "outputs": [],
   "source": [
    "columns = column_names if len(column_names) > 0 else range(0,n_columns)"
   ]
  },
  {
   "cell_type": "code",
   "execution_count": 51,
   "metadata": {},
   "outputs": [
    {
     "data": {
      "text/plain": [
       "['Postal Code\\n', 'Borough\\n', 'Neighbourhood\\n']"
      ]
     },
     "execution_count": 51,
     "metadata": {},
     "output_type": "execute_result"
    }
   ],
   "source": [
    "columns"
   ]
  },
  {
   "cell_type": "code",
   "execution_count": 52,
   "metadata": {},
   "outputs": [],
   "source": [
    " df = pd.DataFrame(columns = columns,\n",
    "                              index= range(0,nrow))"
   ]
  },
  {
   "cell_type": "code",
   "execution_count": 59,
   "metadata": {},
   "outputs": [
    {
     "data": {
      "text/plain": [
       "bs4.element.ResultSet"
      ]
     },
     "execution_count": 59,
     "metadata": {},
     "output_type": "execute_result"
    }
   ],
   "source": [
    "type(mytable)"
   ]
  },
  {
   "cell_type": "code",
   "execution_count": 141,
   "metadata": {},
   "outputs": [],
   "source": [
    "row_marker = 0\n",
    "for row in mytable:\n",
    "    \n",
    "    rowtr=row.find_all('tr')\n",
    "    for eachr in rowtr:\n",
    "        rowtd=eachr.find_all('td')\n",
    "        column_marker = 0\n",
    "        for j in rowtd:\n",
    "            getval=j.get_text()\n",
    "            df.iat[row_marker,column_marker]=getval\n",
    "            column_marker += 1\n",
    "        row_marker +=1\n",
    "                   \n",
    "            \n",
    "#    columns1 = row.find('td')\n",
    "#    for column in columns1:\n",
    "#        df.iat[row_marker,column_marker] = column.get_text()\n",
    "#        column_marker += 1\n",
    "#    row_marker +=1\n",
    "\n",
    "#print(columns1)"
   ]
  },
  {
   "cell_type": "code",
   "execution_count": 71,
   "metadata": {},
   "outputs": [
    {
     "data": {
      "text/plain": [
       "pandas.core.frame.DataFrame"
      ]
     },
     "execution_count": 71,
     "metadata": {},
     "output_type": "execute_result"
    }
   ],
   "source": [
    "type(df)"
   ]
  },
  {
   "cell_type": "code",
   "execution_count": 72,
   "metadata": {},
   "outputs": [
    {
     "data": {
      "text/html": [
       "<div>\n",
       "<style scoped>\n",
       "    .dataframe tbody tr th:only-of-type {\n",
       "        vertical-align: middle;\n",
       "    }\n",
       "\n",
       "    .dataframe tbody tr th {\n",
       "        vertical-align: top;\n",
       "    }\n",
       "\n",
       "    .dataframe thead th {\n",
       "        text-align: right;\n",
       "    }\n",
       "</style>\n",
       "<table border=\"1\" class=\"dataframe\">\n",
       "  <thead>\n",
       "    <tr style=\"text-align: right;\">\n",
       "      <th></th>\n",
       "      <th>Postal Code\\n</th>\n",
       "      <th>Borough\\n</th>\n",
       "      <th>Neighbourhood\\n</th>\n",
       "    </tr>\n",
       "  </thead>\n",
       "  <tbody>\n",
       "    <tr>\n",
       "      <th>0</th>\n",
       "      <td>NaN</td>\n",
       "      <td>NaN</td>\n",
       "      <td>NaN</td>\n",
       "    </tr>\n",
       "    <tr>\n",
       "      <th>1</th>\n",
       "      <td>M1A\\n</td>\n",
       "      <td>Not assigned\\n</td>\n",
       "      <td>Not assigned\\n</td>\n",
       "    </tr>\n",
       "    <tr>\n",
       "      <th>2</th>\n",
       "      <td>M2A\\n</td>\n",
       "      <td>Not assigned\\n</td>\n",
       "      <td>Not assigned\\n</td>\n",
       "    </tr>\n",
       "    <tr>\n",
       "      <th>3</th>\n",
       "      <td>M3A\\n</td>\n",
       "      <td>North York\\n</td>\n",
       "      <td>Parkwoods\\n</td>\n",
       "    </tr>\n",
       "    <tr>\n",
       "      <th>4</th>\n",
       "      <td>M4A\\n</td>\n",
       "      <td>North York\\n</td>\n",
       "      <td>Victoria Village\\n</td>\n",
       "    </tr>\n",
       "  </tbody>\n",
       "</table>\n",
       "</div>"
      ],
      "text/plain": [
       "  Postal Code\\n       Borough\\n     Neighbourhood\\n\n",
       "0           NaN             NaN                 NaN\n",
       "1         M1A\\n  Not assigned\\n      Not assigned\\n\n",
       "2         M2A\\n  Not assigned\\n      Not assigned\\n\n",
       "3         M3A\\n    North York\\n         Parkwoods\\n\n",
       "4         M4A\\n    North York\\n  Victoria Village\\n"
      ]
     },
     "execution_count": 72,
     "metadata": {},
     "output_type": "execute_result"
    }
   ],
   "source": [
    "df.head(5)"
   ]
  },
  {
   "cell_type": "code",
   "execution_count": 182,
   "metadata": {},
   "outputs": [],
   "source": [
    "df=df.replace(to_replace=r'\\n', value=' ', regex=True)"
   ]
  },
  {
   "cell_type": "code",
   "execution_count": 183,
   "metadata": {},
   "outputs": [
    {
     "data": {
      "text/html": [
       "<div>\n",
       "<style scoped>\n",
       "    .dataframe tbody tr th:only-of-type {\n",
       "        vertical-align: middle;\n",
       "    }\n",
       "\n",
       "    .dataframe tbody tr th {\n",
       "        vertical-align: top;\n",
       "    }\n",
       "\n",
       "    .dataframe thead th {\n",
       "        text-align: right;\n",
       "    }\n",
       "</style>\n",
       "<table border=\"1\" class=\"dataframe\">\n",
       "  <thead>\n",
       "    <tr style=\"text-align: right;\">\n",
       "      <th></th>\n",
       "      <th>Postal Code\\n</th>\n",
       "      <th>Borough\\n</th>\n",
       "      <th>Neighbourhood\\n</th>\n",
       "    </tr>\n",
       "  </thead>\n",
       "  <tbody>\n",
       "    <tr>\n",
       "      <th>0</th>\n",
       "      <td>NaN</td>\n",
       "      <td>nan</td>\n",
       "      <td>NaN</td>\n",
       "    </tr>\n",
       "    <tr>\n",
       "      <th>1</th>\n",
       "      <td>M1A</td>\n",
       "      <td>Not assigned</td>\n",
       "      <td>Not assigned</td>\n",
       "    </tr>\n",
       "    <tr>\n",
       "      <th>2</th>\n",
       "      <td>M2A</td>\n",
       "      <td>Not assigned</td>\n",
       "      <td>Not assigned</td>\n",
       "    </tr>\n",
       "    <tr>\n",
       "      <th>3</th>\n",
       "      <td>M3A</td>\n",
       "      <td>North York</td>\n",
       "      <td>Parkwoods</td>\n",
       "    </tr>\n",
       "    <tr>\n",
       "      <th>4</th>\n",
       "      <td>M4A</td>\n",
       "      <td>North York</td>\n",
       "      <td>Victoria Village</td>\n",
       "    </tr>\n",
       "  </tbody>\n",
       "</table>\n",
       "</div>"
      ],
      "text/plain": [
       "  Postal Code\\n      Borough\\n    Neighbourhood\\n\n",
       "0           NaN            nan                NaN\n",
       "1          M1A   Not assigned       Not assigned \n",
       "2          M2A   Not assigned       Not assigned \n",
       "3          M3A     North York          Parkwoods \n",
       "4          M4A     North York   Victoria Village "
      ]
     },
     "execution_count": 183,
     "metadata": {},
     "output_type": "execute_result"
    }
   ],
   "source": [
    "df.head(5)"
   ]
  },
  {
   "cell_type": "code",
   "execution_count": 93,
   "metadata": {},
   "outputs": [],
   "source": [
    "df['Borough\\n']=df['Borough\\n'].astype(str)"
   ]
  },
  {
   "cell_type": "code",
   "execution_count": 184,
   "metadata": {},
   "outputs": [],
   "source": [
    "df1=df[(df['Borough\\n']!='Not assigned ') &  (df['Borough\\n']!='nan')]\n"
   ]
  },
  {
   "cell_type": "code",
   "execution_count": 83,
   "metadata": {},
   "outputs": [
    {
     "data": {
      "text/plain": [
       "Int64Index([], dtype='int64')"
      ]
     },
     "execution_count": 83,
     "metadata": {},
     "output_type": "execute_result"
    }
   ],
   "source": [
    "indexname"
   ]
  },
  {
   "cell_type": "code",
   "execution_count": 85,
   "metadata": {},
   "outputs": [],
   "source": [
    "df.drop(indexname , inplace=True)"
   ]
  },
  {
   "cell_type": "code",
   "execution_count": 101,
   "metadata": {},
   "outputs": [
    {
     "data": {
      "text/plain": [
       "Int64Index([  3,   4,   5,   6,   7,   9,  10,  12,  13,  14,\n",
       "            ...\n",
       "            152, 153, 154, 157, 158, 161, 166, 169, 170, 179],\n",
       "           dtype='int64', length=103)"
      ]
     },
     "execution_count": 101,
     "metadata": {},
     "output_type": "execute_result"
    }
   ],
   "source": [
    "df1.index\n"
   ]
  },
  {
   "cell_type": "code",
   "execution_count": 185,
   "metadata": {},
   "outputs": [
    {
     "data": {
      "text/plain": [
       "<bound method DataFrame.reindex of     Postal Code\\n          Borough\\n  \\\n",
       "3            M3A         North York    \n",
       "4            M4A         North York    \n",
       "5            M5A   Downtown Toronto    \n",
       "6            M6A         North York    \n",
       "7            M7A   Downtown Toronto    \n",
       "..            ...                ...   \n",
       "161          M8X          Etobicoke    \n",
       "166          M4Y   Downtown Toronto    \n",
       "169          M7Y       East Toronto    \n",
       "170          M8Y          Etobicoke    \n",
       "179          M8Z          Etobicoke    \n",
       "\n",
       "                                       Neighbourhood\\n  \n",
       "3                                           Parkwoods   \n",
       "4                                    Victoria Village   \n",
       "5                           Regent Park, Harbourfront   \n",
       "6                    Lawrence Manor, Lawrence Heights   \n",
       "7         Queen's Park, Ontario Provincial Government   \n",
       "..                                                 ...  \n",
       "161     The Kingsway, Montgomery Road, Old Mill North   \n",
       "166                              Church and Wellesley   \n",
       "169  Business reply mail Processing Centre, South C...  \n",
       "170  Old Mill South, King's Mill Park, Sunnylea, Hu...  \n",
       "179  Mimico NW, The Queensway West, South of Bloor,...  \n",
       "\n",
       "[103 rows x 3 columns]>"
      ]
     },
     "execution_count": 185,
     "metadata": {},
     "output_type": "execute_result"
    }
   ],
   "source": [
    "df1.reindex"
   ]
  },
  {
   "cell_type": "code",
   "execution_count": 186,
   "metadata": {},
   "outputs": [],
   "source": [
    "df1.reset_index(inplace = True)\n"
   ]
  },
  {
   "cell_type": "code",
   "execution_count": 187,
   "metadata": {},
   "outputs": [
    {
     "data": {
      "text/html": [
       "<div>\n",
       "<style scoped>\n",
       "    .dataframe tbody tr th:only-of-type {\n",
       "        vertical-align: middle;\n",
       "    }\n",
       "\n",
       "    .dataframe tbody tr th {\n",
       "        vertical-align: top;\n",
       "    }\n",
       "\n",
       "    .dataframe thead th {\n",
       "        text-align: right;\n",
       "    }\n",
       "</style>\n",
       "<table border=\"1\" class=\"dataframe\">\n",
       "  <thead>\n",
       "    <tr style=\"text-align: right;\">\n",
       "      <th></th>\n",
       "      <th>Postal Code\\n</th>\n",
       "      <th>Borough\\n</th>\n",
       "      <th>Neighbourhood\\n</th>\n",
       "    </tr>\n",
       "  </thead>\n",
       "  <tbody>\n",
       "    <tr>\n",
       "      <th>0</th>\n",
       "      <td>M3A</td>\n",
       "      <td>North York</td>\n",
       "      <td>Parkwoods</td>\n",
       "    </tr>\n",
       "    <tr>\n",
       "      <th>1</th>\n",
       "      <td>M4A</td>\n",
       "      <td>North York</td>\n",
       "      <td>Victoria Village</td>\n",
       "    </tr>\n",
       "    <tr>\n",
       "      <th>2</th>\n",
       "      <td>M5A</td>\n",
       "      <td>Downtown Toronto</td>\n",
       "      <td>Regent Park, Harbourfront</td>\n",
       "    </tr>\n",
       "    <tr>\n",
       "      <th>3</th>\n",
       "      <td>M6A</td>\n",
       "      <td>North York</td>\n",
       "      <td>Lawrence Manor, Lawrence Heights</td>\n",
       "    </tr>\n",
       "    <tr>\n",
       "      <th>4</th>\n",
       "      <td>M7A</td>\n",
       "      <td>Downtown Toronto</td>\n",
       "      <td>Queen's Park, Ontario Provincial Government</td>\n",
       "    </tr>\n",
       "    <tr>\n",
       "      <th>...</th>\n",
       "      <td>...</td>\n",
       "      <td>...</td>\n",
       "      <td>...</td>\n",
       "    </tr>\n",
       "    <tr>\n",
       "      <th>98</th>\n",
       "      <td>M8X</td>\n",
       "      <td>Etobicoke</td>\n",
       "      <td>The Kingsway, Montgomery Road, Old Mill North</td>\n",
       "    </tr>\n",
       "    <tr>\n",
       "      <th>99</th>\n",
       "      <td>M4Y</td>\n",
       "      <td>Downtown Toronto</td>\n",
       "      <td>Church and Wellesley</td>\n",
       "    </tr>\n",
       "    <tr>\n",
       "      <th>100</th>\n",
       "      <td>M7Y</td>\n",
       "      <td>East Toronto</td>\n",
       "      <td>Business reply mail Processing Centre, South C...</td>\n",
       "    </tr>\n",
       "    <tr>\n",
       "      <th>101</th>\n",
       "      <td>M8Y</td>\n",
       "      <td>Etobicoke</td>\n",
       "      <td>Old Mill South, King's Mill Park, Sunnylea, Hu...</td>\n",
       "    </tr>\n",
       "    <tr>\n",
       "      <th>102</th>\n",
       "      <td>M8Z</td>\n",
       "      <td>Etobicoke</td>\n",
       "      <td>Mimico NW, The Queensway West, South of Bloor,...</td>\n",
       "    </tr>\n",
       "  </tbody>\n",
       "</table>\n",
       "<p>103 rows × 3 columns</p>\n",
       "</div>"
      ],
      "text/plain": [
       "    Postal Code\\n          Borough\\n  \\\n",
       "0            M3A         North York    \n",
       "1            M4A         North York    \n",
       "2            M5A   Downtown Toronto    \n",
       "3            M6A         North York    \n",
       "4            M7A   Downtown Toronto    \n",
       "..            ...                ...   \n",
       "98           M8X          Etobicoke    \n",
       "99           M4Y   Downtown Toronto    \n",
       "100          M7Y       East Toronto    \n",
       "101          M8Y          Etobicoke    \n",
       "102          M8Z          Etobicoke    \n",
       "\n",
       "                                       Neighbourhood\\n  \n",
       "0                                           Parkwoods   \n",
       "1                                    Victoria Village   \n",
       "2                           Regent Park, Harbourfront   \n",
       "3                    Lawrence Manor, Lawrence Heights   \n",
       "4         Queen's Park, Ontario Provincial Government   \n",
       "..                                                 ...  \n",
       "98      The Kingsway, Montgomery Road, Old Mill North   \n",
       "99                               Church and Wellesley   \n",
       "100  Business reply mail Processing Centre, South C...  \n",
       "101  Old Mill South, King's Mill Park, Sunnylea, Hu...  \n",
       "102  Mimico NW, The Queensway West, South of Bloor,...  \n",
       "\n",
       "[103 rows x 3 columns]"
      ]
     },
     "execution_count": 187,
     "metadata": {},
     "output_type": "execute_result"
    }
   ],
   "source": [
    "df1.drop(['index'],axis=1)"
   ]
  },
  {
   "cell_type": "code",
   "execution_count": 139,
   "metadata": {},
   "outputs": [
    {
     "data": {
      "text/plain": [
       "(103, 4)"
      ]
     },
     "execution_count": 139,
     "metadata": {},
     "output_type": "execute_result"
    }
   ],
   "source": [
    "df1.shape"
   ]
  },
  {
   "cell_type": "code",
   "execution_count": 144,
   "metadata": {},
   "outputs": [
    {
     "name": "stdout",
     "output_type": "stream",
     "text": [
      "Collecting geocoderNote: you may need to restart the kernel to use updated packages.\n",
      "  Downloading geocoder-1.38.1-py2.py3-none-any.whl (98 kB)\n",
      "Collecting ratelim\n",
      "  Downloading ratelim-0.1.6-py2.py3-none-any.whl (4.0 kB)\n",
      "Requirement already satisfied: six in c:\\anaconda\\lib\\site-packages (from geocoder) (1.15.0)\n",
      "Requirement already satisfied: requests in c:\\anaconda\\lib\\site-packages (from geocoder) (2.24.0)\n",
      "Requirement already satisfied: future in c:\\anaconda\\lib\\site-packages (from geocoder) (0.18.2)\n",
      "Requirement already satisfied: click in c:\\anaconda\\lib\\site-packages (from geocoder) (7.1.2)\n",
      "Requirement already satisfied: decorator in c:\\anaconda\\lib\\site-packages (from ratelim->geocoder) (4.4.2)\n",
      "Requirement already satisfied: certifi>=2017.4.17 in c:\\anaconda\\lib\\site-packages (from requests->geocoder) (2020.6.20)\n",
      "Requirement already satisfied: chardet<4,>=3.0.2 in c:\\anaconda\\lib\\site-packages (from requests->geocoder) (3.0.4)\n",
      "Requirement already satisfied: urllib3!=1.25.0,!=1.25.1,<1.26,>=1.21.1 in c:\\anaconda\\lib\\site-packages (from requests->geocoder) (1.25.9)\n",
      "Requirement already satisfied: idna<3,>=2.5 in c:\\anaconda\\lib\\site-packages (from requests->geocoder) (2.10)\n",
      "Installing collected packages: ratelim, geocoder\n",
      "Successfully installed geocoder-1.38.1 ratelim-0.1.6\n",
      "\n"
     ]
    }
   ],
   "source": [
    "pip install geocoder"
   ]
  },
  {
   "cell_type": "code",
   "execution_count": 193,
   "metadata": {},
   "outputs": [],
   "source": [
    "latlong=pd.read_csv(r'C:\\Users\\Shailee Raj\\Downloads\\Geospatial_Coordinates.csv')\n"
   ]
  },
  {
   "cell_type": "code",
   "execution_count": 194,
   "metadata": {
    "scrolled": true
   },
   "outputs": [
    {
     "data": {
      "text/html": [
       "<div>\n",
       "<style scoped>\n",
       "    .dataframe tbody tr th:only-of-type {\n",
       "        vertical-align: middle;\n",
       "    }\n",
       "\n",
       "    .dataframe tbody tr th {\n",
       "        vertical-align: top;\n",
       "    }\n",
       "\n",
       "    .dataframe thead th {\n",
       "        text-align: right;\n",
       "    }\n",
       "</style>\n",
       "<table border=\"1\" class=\"dataframe\">\n",
       "  <thead>\n",
       "    <tr style=\"text-align: right;\">\n",
       "      <th></th>\n",
       "      <th>Postal Code</th>\n",
       "      <th>Latitude</th>\n",
       "      <th>Longitude</th>\n",
       "    </tr>\n",
       "  </thead>\n",
       "  <tbody>\n",
       "    <tr>\n",
       "      <th>0</th>\n",
       "      <td>M1B</td>\n",
       "      <td>43.806686</td>\n",
       "      <td>-79.194353</td>\n",
       "    </tr>\n",
       "    <tr>\n",
       "      <th>1</th>\n",
       "      <td>M1C</td>\n",
       "      <td>43.784535</td>\n",
       "      <td>-79.160497</td>\n",
       "    </tr>\n",
       "    <tr>\n",
       "      <th>2</th>\n",
       "      <td>M1E</td>\n",
       "      <td>43.763573</td>\n",
       "      <td>-79.188711</td>\n",
       "    </tr>\n",
       "    <tr>\n",
       "      <th>3</th>\n",
       "      <td>M1G</td>\n",
       "      <td>43.770992</td>\n",
       "      <td>-79.216917</td>\n",
       "    </tr>\n",
       "    <tr>\n",
       "      <th>4</th>\n",
       "      <td>M1H</td>\n",
       "      <td>43.773136</td>\n",
       "      <td>-79.239476</td>\n",
       "    </tr>\n",
       "  </tbody>\n",
       "</table>\n",
       "</div>"
      ],
      "text/plain": [
       "  Postal Code   Latitude  Longitude\n",
       "0         M1B  43.806686 -79.194353\n",
       "1         M1C  43.784535 -79.160497\n",
       "2         M1E  43.763573 -79.188711\n",
       "3         M1G  43.770992 -79.216917\n",
       "4         M1H  43.773136 -79.239476"
      ]
     },
     "execution_count": 194,
     "metadata": {},
     "output_type": "execute_result"
    }
   ],
   "source": [
    "latlong.head(5)"
   ]
  },
  {
   "cell_type": "raw",
   "metadata": {},
   "source": [
    "df1.columns=['Postal Code','Borough','Neighbourhood']"
   ]
  },
  {
   "cell_type": "code",
   "execution_count": 155,
   "metadata": {},
   "outputs": [
    {
     "data": {
      "text/plain": [
       "Index(['index', 'Postal Code\\n', 'Borough\\n', 'Neighbourhood\\n'], dtype='object')"
      ]
     },
     "execution_count": 155,
     "metadata": {},
     "output_type": "execute_result"
    }
   ],
   "source": [
    "df1.columns\n"
   ]
  },
  {
   "cell_type": "code",
   "execution_count": 188,
   "metadata": {},
   "outputs": [],
   "source": [
    "df1.columns=['index','Postal Code','Borough','Neighbourhood']"
   ]
  },
  {
   "cell_type": "code",
   "execution_count": 189,
   "metadata": {},
   "outputs": [
    {
     "name": "stderr",
     "output_type": "stream",
     "text": [
      "C:\\Anaconda\\lib\\site-packages\\pandas\\core\\frame.py:3990: SettingWithCopyWarning: \n",
      "A value is trying to be set on a copy of a slice from a DataFrame\n",
      "\n",
      "See the caveats in the documentation: https://pandas.pydata.org/pandas-docs/stable/user_guide/indexing.html#returning-a-view-versus-a-copy\n",
      "  return super().drop(\n"
     ]
    }
   ],
   "source": [
    "df1.drop('index',axis=1,inplace = True)"
   ]
  },
  {
   "cell_type": "code",
   "execution_count": 190,
   "metadata": {},
   "outputs": [
    {
     "data": {
      "text/html": [
       "<div>\n",
       "<style scoped>\n",
       "    .dataframe tbody tr th:only-of-type {\n",
       "        vertical-align: middle;\n",
       "    }\n",
       "\n",
       "    .dataframe tbody tr th {\n",
       "        vertical-align: top;\n",
       "    }\n",
       "\n",
       "    .dataframe thead th {\n",
       "        text-align: right;\n",
       "    }\n",
       "</style>\n",
       "<table border=\"1\" class=\"dataframe\">\n",
       "  <thead>\n",
       "    <tr style=\"text-align: right;\">\n",
       "      <th></th>\n",
       "      <th>Postal Code</th>\n",
       "      <th>Borough</th>\n",
       "      <th>Neighbourhood</th>\n",
       "    </tr>\n",
       "  </thead>\n",
       "  <tbody>\n",
       "    <tr>\n",
       "      <th>0</th>\n",
       "      <td>M3A</td>\n",
       "      <td>North York</td>\n",
       "      <td>Parkwoods</td>\n",
       "    </tr>\n",
       "    <tr>\n",
       "      <th>1</th>\n",
       "      <td>M4A</td>\n",
       "      <td>North York</td>\n",
       "      <td>Victoria Village</td>\n",
       "    </tr>\n",
       "    <tr>\n",
       "      <th>2</th>\n",
       "      <td>M5A</td>\n",
       "      <td>Downtown Toronto</td>\n",
       "      <td>Regent Park, Harbourfront</td>\n",
       "    </tr>\n",
       "    <tr>\n",
       "      <th>3</th>\n",
       "      <td>M6A</td>\n",
       "      <td>North York</td>\n",
       "      <td>Lawrence Manor, Lawrence Heights</td>\n",
       "    </tr>\n",
       "    <tr>\n",
       "      <th>4</th>\n",
       "      <td>M7A</td>\n",
       "      <td>Downtown Toronto</td>\n",
       "      <td>Queen's Park, Ontario Provincial Government</td>\n",
       "    </tr>\n",
       "  </tbody>\n",
       "</table>\n",
       "</div>"
      ],
      "text/plain": [
       "  Postal Code            Borough                                 Neighbourhood\n",
       "0        M3A         North York                                     Parkwoods \n",
       "1        M4A         North York                              Victoria Village \n",
       "2        M5A   Downtown Toronto                     Regent Park, Harbourfront \n",
       "3        M6A         North York              Lawrence Manor, Lawrence Heights \n",
       "4        M7A   Downtown Toronto   Queen's Park, Ontario Provincial Government "
      ]
     },
     "execution_count": 190,
     "metadata": {},
     "output_type": "execute_result"
    }
   ],
   "source": [
    "df1.head(5)"
   ]
  },
  {
   "cell_type": "code",
   "execution_count": 199,
   "metadata": {},
   "outputs": [
    {
     "name": "stderr",
     "output_type": "stream",
     "text": [
      "<ipython-input-199-5086966533f8>:1: SettingWithCopyWarning: \n",
      "A value is trying to be set on a copy of a slice from a DataFrame.\n",
      "Try using .loc[row_indexer,col_indexer] = value instead\n",
      "\n",
      "See the caveats in the documentation: https://pandas.pydata.org/pandas-docs/stable/user_guide/indexing.html#returning-a-view-versus-a-copy\n",
      "  df1['Postal Code']=df1['Postal Code'].astype(str)\n"
     ]
    }
   ],
   "source": [
    "df1['Postal Code']=df1['Postal Code'].astype(str)"
   ]
  },
  {
   "cell_type": "code",
   "execution_count": 201,
   "metadata": {},
   "outputs": [
    {
     "data": {
      "text/plain": [
       "pandas.core.series.Series"
      ]
     },
     "execution_count": 201,
     "metadata": {},
     "output_type": "execute_result"
    }
   ],
   "source": [
    "type(df1['Postal Code'])"
   ]
  },
  {
   "cell_type": "code",
   "execution_count": 195,
   "metadata": {},
   "outputs": [],
   "source": [
    "latlong['Postal Code']=latlong['Postal Code'].astype(str)"
   ]
  },
  {
   "cell_type": "code",
   "execution_count": 202,
   "metadata": {
    "scrolled": true
   },
   "outputs": [
    {
     "name": "stdout",
     "output_type": "stream",
     "text": [
      "   Postal Code   Latitude  Longitude\n",
      "25         M3A  43.753259 -79.329656\n"
     ]
    }
   ],
   "source": [
    "print(latlong[latlong['Postal Code']== 'M3A'])"
   ]
  },
  {
   "cell_type": "code",
   "execution_count": 217,
   "metadata": {},
   "outputs": [
    {
     "name": "stdout",
     "output_type": "stream",
     "text": [
      "  Postal Code      Borough Neighbourhood\n",
      "0         M3A  North York     Parkwoods \n"
     ]
    }
   ],
   "source": [
    "print(df1[df1['Postal Code']== 'M3A'])"
   ]
  },
  {
   "cell_type": "code",
   "execution_count": 215,
   "metadata": {
    "scrolled": true
   },
   "outputs": [
    {
     "name": "stderr",
     "output_type": "stream",
     "text": [
      "<ipython-input-215-815b0f764839>:1: SettingWithCopyWarning: \n",
      "A value is trying to be set on a copy of a slice from a DataFrame.\n",
      "Try using .loc[row_indexer,col_indexer] = value instead\n",
      "\n",
      "See the caveats in the documentation: https://pandas.pydata.org/pandas-docs/stable/user_guide/indexing.html#returning-a-view-versus-a-copy\n",
      "  df1['Postal Code'] = df1['Postal Code'].apply(lambda x: x.strip())\n"
     ]
    }
   ],
   "source": [
    "df1['Postal Code'] = df1['Postal Code'].apply(lambda x: x.strip())"
   ]
  },
  {
   "cell_type": "code",
   "execution_count": 218,
   "metadata": {},
   "outputs": [],
   "source": [
    "final = pd.merge(df1,latlong,how='left',on='Postal Code')"
   ]
  },
  {
   "cell_type": "code",
   "execution_count": 220,
   "metadata": {},
   "outputs": [
    {
     "data": {
      "text/html": [
       "<div>\n",
       "<style scoped>\n",
       "    .dataframe tbody tr th:only-of-type {\n",
       "        vertical-align: middle;\n",
       "    }\n",
       "\n",
       "    .dataframe tbody tr th {\n",
       "        vertical-align: top;\n",
       "    }\n",
       "\n",
       "    .dataframe thead th {\n",
       "        text-align: right;\n",
       "    }\n",
       "</style>\n",
       "<table border=\"1\" class=\"dataframe\">\n",
       "  <thead>\n",
       "    <tr style=\"text-align: right;\">\n",
       "      <th></th>\n",
       "      <th>Postal Code</th>\n",
       "      <th>Borough</th>\n",
       "      <th>Neighbourhood</th>\n",
       "      <th>Latitude</th>\n",
       "      <th>Longitude</th>\n",
       "    </tr>\n",
       "  </thead>\n",
       "  <tbody>\n",
       "    <tr>\n",
       "      <th>0</th>\n",
       "      <td>M3A</td>\n",
       "      <td>North York</td>\n",
       "      <td>Parkwoods</td>\n",
       "      <td>43.753259</td>\n",
       "      <td>-79.329656</td>\n",
       "    </tr>\n",
       "    <tr>\n",
       "      <th>1</th>\n",
       "      <td>M4A</td>\n",
       "      <td>North York</td>\n",
       "      <td>Victoria Village</td>\n",
       "      <td>43.725882</td>\n",
       "      <td>-79.315572</td>\n",
       "    </tr>\n",
       "    <tr>\n",
       "      <th>2</th>\n",
       "      <td>M5A</td>\n",
       "      <td>Downtown Toronto</td>\n",
       "      <td>Regent Park, Harbourfront</td>\n",
       "      <td>43.654260</td>\n",
       "      <td>-79.360636</td>\n",
       "    </tr>\n",
       "    <tr>\n",
       "      <th>3</th>\n",
       "      <td>M6A</td>\n",
       "      <td>North York</td>\n",
       "      <td>Lawrence Manor, Lawrence Heights</td>\n",
       "      <td>43.718518</td>\n",
       "      <td>-79.464763</td>\n",
       "    </tr>\n",
       "    <tr>\n",
       "      <th>4</th>\n",
       "      <td>M7A</td>\n",
       "      <td>Downtown Toronto</td>\n",
       "      <td>Queen's Park, Ontario Provincial Government</td>\n",
       "      <td>43.662301</td>\n",
       "      <td>-79.389494</td>\n",
       "    </tr>\n",
       "  </tbody>\n",
       "</table>\n",
       "</div>"
      ],
      "text/plain": [
       "  Postal Code            Borough  \\\n",
       "0         M3A        North York    \n",
       "1         M4A        North York    \n",
       "2         M5A  Downtown Toronto    \n",
       "3         M6A        North York    \n",
       "4         M7A  Downtown Toronto    \n",
       "\n",
       "                                  Neighbourhood   Latitude  Longitude  \n",
       "0                                    Parkwoods   43.753259 -79.329656  \n",
       "1                             Victoria Village   43.725882 -79.315572  \n",
       "2                    Regent Park, Harbourfront   43.654260 -79.360636  \n",
       "3             Lawrence Manor, Lawrence Heights   43.718518 -79.464763  \n",
       "4  Queen's Park, Ontario Provincial Government   43.662301 -79.389494  "
      ]
     },
     "execution_count": 220,
     "metadata": {},
     "output_type": "execute_result"
    }
   ],
   "source": [
    "final.head(5)"
   ]
  },
  {
   "cell_type": "code",
   "execution_count": 231,
   "metadata": {},
   "outputs": [
    {
     "data": {
      "text/html": [
       "<div style=\"width:100%;\"><div style=\"position:relative;width:100%;height:0;padding-bottom:60%;\"><span style=\"color:#565656\">Make this Notebook Trusted to load map: File -> Trust Notebook</span><iframe src=\"about:blank\" style=\"position:absolute;width:100%;height:100%;left:0;top:0;border:none !important;\" data-html=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 onload=\"this.contentDocument.open();this.contentDocument.write(atob(this.getAttribute('data-html')));this.contentDocument.close();\" allowfullscreen webkitallowfullscreen mozallowfullscreen></iframe></div></div>"
      ],
      "text/plain": [
       "<folium.folium.Map at 0x28832852760>"
      ]
     },
     "execution_count": 231,
     "metadata": {},
     "output_type": "execute_result"
    }
   ],
   "source": [
    "# create map of New York using latitude and longitude values\n",
    "latitude = 43.6532;\n",
    "longitude = -79.3832;\n",
    "map_newyork = folium.Map(location=[latitude, longitude], zoom_start=10)\n",
    "\n",
    "# add markers to map\n",
    "for lat, lng, borough, neighborhood in zip(final['Latitude'], final['Longitude'], final['Borough'], final['Neighbourhood']):\n",
    "    label = '{}, {}'.format(neighborhood, borough)\n",
    "    label = folium.Popup(label, parse_html=True)\n",
    "    folium.CircleMarker(\n",
    "        [lat, lng],\n",
    "        radius=5,\n",
    "        popup=label,\n",
    "        color='blue',\n",
    "        fill=True,\n",
    "        fill_color='#3186cc',\n",
    "        fill_opacity=0.7,\n",
    "        parse_html=False).add_to(map_newyork)  \n",
    "    \n",
    "map_newyork"
   ]
  },
  {
   "cell_type": "code",
   "execution_count": 226,
   "metadata": {},
   "outputs": [
    {
     "name": "stdout",
     "output_type": "stream",
     "text": [
      "Collecting foliumNote: you may need to restart the kernel to use updated packages.\n",
      "\n",
      "  Downloading folium-0.11.0-py2.py3-none-any.whl (93 kB)\n",
      "Requirement already satisfied: numpy in c:\\anaconda\\lib\\site-packages (from folium) (1.18.5)\n",
      "Collecting branca>=0.3.0\n",
      "  Downloading branca-0.4.1-py3-none-any.whl (24 kB)\n",
      "Requirement already satisfied: jinja2>=2.9 in c:\\anaconda\\lib\\site-packages (from folium) (2.11.2)\n",
      "Requirement already satisfied: requests in c:\\anaconda\\lib\\site-packages (from folium) (2.24.0)\n",
      "Requirement already satisfied: MarkupSafe>=0.23 in c:\\anaconda\\lib\\site-packages (from jinja2>=2.9->folium) (1.1.1)\n",
      "Requirement already satisfied: chardet<4,>=3.0.2 in c:\\anaconda\\lib\\site-packages (from requests->folium) (3.0.4)\n",
      "Requirement already satisfied: idna<3,>=2.5 in c:\\anaconda\\lib\\site-packages (from requests->folium) (2.10)\n",
      "Requirement already satisfied: certifi>=2017.4.17 in c:\\anaconda\\lib\\site-packages (from requests->folium) (2020.6.20)\n",
      "Requirement already satisfied: urllib3!=1.25.0,!=1.25.1,<1.26,>=1.21.1 in c:\\anaconda\\lib\\site-packages (from requests->folium) (1.25.9)\n",
      "Installing collected packages: branca, folium\n",
      "Successfully installed branca-0.4.1 folium-0.11.0\n"
     ]
    }
   ],
   "source": [
    "pip install folium"
   ]
  },
  {
   "cell_type": "code",
   "execution_count": 228,
   "metadata": {},
   "outputs": [],
   "source": [
    "import folium"
   ]
  },
  {
   "cell_type": "code",
   "execution_count": null,
   "metadata": {},
   "outputs": [],
   "source": []
  }
 ],
 "metadata": {
  "kernelspec": {
   "display_name": "Python 3",
   "language": "python",
   "name": "python3"
  },
  "language_info": {
   "codemirror_mode": {
    "name": "ipython",
    "version": 3
   },
   "file_extension": ".py",
   "mimetype": "text/x-python",
   "name": "python",
   "nbconvert_exporter": "python",
   "pygments_lexer": "ipython3",
   "version": "3.8.3"
  }
 },
 "nbformat": 4,
 "nbformat_minor": 4
}
